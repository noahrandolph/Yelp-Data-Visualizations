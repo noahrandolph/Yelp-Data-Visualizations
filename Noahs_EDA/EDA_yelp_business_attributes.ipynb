{
 "cells": [
  {
   "cell_type": "code",
   "execution_count": 1,
   "metadata": {},
   "outputs": [],
   "source": [
    "import numpy as np\n",
    "import pandas as pd\n",
    "import matplotlib.pyplot as plt\n",
    "\n",
    "business_attributes=pd.read_csv(\"yelp_business_attributes.csv\")\n",
    "business_hours=pd.read_csv(\"yelp_business_hours.csv\")\n",
    "check_in=pd.read_csv(\"yelp_checkin.csv\")\n",
    "reviews=pd.read_csv(\"yelp_review.csv\")\n",
    "tip=pd.read_csv(\"yelp_tip.csv\")\n",
    "user=pd.read_csv(\"yelp_user.csv\")\n",
    "\n",
    "%matplotlib inline"
   ]
  },
  {
   "cell_type": "markdown",
   "metadata": {},
   "source": [
    "### yelp_business_attributes.csv"
   ]
  },
  {
   "cell_type": "code",
   "execution_count": 19,
   "metadata": {},
   "outputs": [
    {
     "name": "stdout",
     "output_type": "stream",
     "text": [
      "HairSpecializesIn_asian            object\n",
      "HairSpecializesIn_straightperms    object\n",
      "RestaurantsPriceRange2             object\n",
      "GoodForKids                        object\n",
      "WheelchairAccessible               object\n",
      "BikeParking                        object\n",
      "Alcohol                            object\n",
      "HasTV                              object\n",
      "NoiseLevel                         object\n",
      "RestaurantsAttire                  object\n",
      "Music_dj                           object\n",
      "Music_background_music             object\n",
      "Music_no_music                     object\n",
      "Music_karaoke                      object\n",
      "Music_live                         object\n",
      "Music_video                        object\n",
      "Music_jukebox                      object\n",
      "Ambience_romantic                  object\n",
      "Ambience_intimate                  object\n",
      "Ambience_classy                    object\n",
      "Ambience_hipster                   object\n",
      "Ambience_divey                     object\n",
      "Ambience_touristy                  object\n",
      "Ambience_trendy                    object\n",
      "Ambience_upscale                   object\n",
      "Ambience_casual                    object\n",
      "RestaurantsGoodForGroups           object\n",
      "Caters                             object\n",
      "WiFi                               object\n",
      "RestaurantsReservations            object\n",
      "                                    ...  \n",
      "BestNights_tuesday                 object\n",
      "BestNights_friday                  object\n",
      "BestNights_wednesday               object\n",
      "BestNights_thursday                object\n",
      "BestNights_sunday                  object\n",
      "BestNights_saturday                object\n",
      "GoodForMeal_dessert                object\n",
      "GoodForMeal_latenight              object\n",
      "GoodForMeal_lunch                  object\n",
      "GoodForMeal_dinner                 object\n",
      "GoodForMeal_breakfast              object\n",
      "GoodForMeal_brunch                 object\n",
      "CoatCheck                          object\n",
      "Smoking                            object\n",
      "DriveThru                          object\n",
      "DogsAllowed                        object\n",
      "BusinessAcceptsBitcoin             object\n",
      "Open24Hours                        object\n",
      "BYOBCorkage                        object\n",
      "BYOB                               object\n",
      "Corkage                            object\n",
      "DietaryRestrictions_dairy-free     object\n",
      "DietaryRestrictions_gluten-free    object\n",
      "DietaryRestrictions_vegan          object\n",
      "DietaryRestrictions_kosher         object\n",
      "DietaryRestrictions_halal          object\n",
      "DietaryRestrictions_soy-free       object\n",
      "DietaryRestrictions_vegetarian     object\n",
      "AgesAllowed                        object\n",
      "RestaurantsCounterService          object\n",
      "Length: 67, dtype: object\n"
     ]
    }
   ],
   "source": [
    "print(business_attributes.dtypes[:100])\n",
    "#print(business_attributes.head())"
   ]
  },
  {
   "cell_type": "code",
   "execution_count": 3,
   "metadata": {},
   "outputs": [
    {
     "name": "stdout",
     "output_type": "stream",
     "text": [
      "                   business_id AcceptsInsurance ByAppointmentOnly  \\\n",
      "152036  kLFm_kehXNZkUc1oa2-Eaw               Na                Na   \n",
      "152037  gRGalHVu6BcaUDIAGVW_xQ               Na                Na   \n",
      "152038  XXvZBIHoJBU5d6-a-oyMWQ               Na                Na   \n",
      "152039  lNpPGgM96nPIYM1shxciHg               Na                Na   \n",
      "152040  viKaP26BcHU6cLx8sf4gKg               Na                Na   \n",
      "\n",
      "       BusinessAcceptsCreditCards BusinessParking_garage  \\\n",
      "152036                         Na                     Na   \n",
      "152037                         Na                   True   \n",
      "152038                       True                     Na   \n",
      "152039                         Na                     Na   \n",
      "152040                         Na                   True   \n",
      "\n",
      "       BusinessParking_street BusinessParking_validated BusinessParking_lot  \\\n",
      "152036                  False                     False               False   \n",
      "152037                     Na                        Na                  Na   \n",
      "152038                     Na                        Na                  Na   \n",
      "152039                     Na                        Na                  Na   \n",
      "152040                     Na                        Na                  Na   \n",
      "\n",
      "       BusinessParking_valet HairSpecializesIn_coloring  \\\n",
      "152036                 False                      False   \n",
      "152037                    Na                         Na   \n",
      "152038                    Na                         Na   \n",
      "152039                    Na                         Na   \n",
      "152040                    Na                         Na   \n",
      "\n",
      "                  ...            Corkage DietaryRestrictions_dairy-free  \\\n",
      "152036            ...                 Na                             Na   \n",
      "152037            ...                 Na                             Na   \n",
      "152038            ...                 Na                             Na   \n",
      "152039            ...                 Na                             Na   \n",
      "152040            ...                 Na                             Na   \n",
      "\n",
      "       DietaryRestrictions_gluten-free DietaryRestrictions_vegan  \\\n",
      "152036                              Na                        Na   \n",
      "152037                              Na                        Na   \n",
      "152038                              Na                        Na   \n",
      "152039                              Na                        Na   \n",
      "152040                              Na                        Na   \n",
      "\n",
      "       DietaryRestrictions_kosher DietaryRestrictions_halal  \\\n",
      "152036                         Na                        Na   \n",
      "152037                         Na                        Na   \n",
      "152038                         Na                        Na   \n",
      "152039                         Na                        Na   \n",
      "152040                         Na                        Na   \n",
      "\n",
      "       DietaryRestrictions_soy-free DietaryRestrictions_vegetarian  \\\n",
      "152036                           Na                             Na   \n",
      "152037                           Na                             Na   \n",
      "152038                           Na                             Na   \n",
      "152039                           Na                             Na   \n",
      "152040                           Na                             Na   \n",
      "\n",
      "       AgesAllowed RestaurantsCounterService  \n",
      "152036          Na                        Na  \n",
      "152037          Na                        Na  \n",
      "152038          Na                        Na  \n",
      "152039          Na                        Na  \n",
      "152040          Na                        Na  \n",
      "\n",
      "[5 rows x 82 columns]\n"
     ]
    }
   ],
   "source": [
    "print(business_attributes.tail())"
   ]
  },
  {
   "cell_type": "markdown",
   "metadata": {},
   "source": [
    "#### Attributes worth anything?"
   ]
  },
  {
   "cell_type": "code",
   "execution_count": 5,
   "metadata": {
    "scrolled": true
   },
   "outputs": [
    {
     "name": "stdout",
     "output_type": "stream",
     "text": [
      "Na       152021\n",
      "False        19\n",
      "True          1\n",
      "Name: Music_live, dtype: int64\n"
     ]
    }
   ],
   "source": [
    "print(business_attributes['Music_live'].value_counts()[:50])"
   ]
  },
  {
   "cell_type": "code",
   "execution_count": 6,
   "metadata": {},
   "outputs": [
    {
     "name": "stdout",
     "output_type": "stream",
     "text": [
      "Na       151824\n",
      "False       111\n",
      "True        106\n",
      "Name: NoiseLevel, dtype: int64\n"
     ]
    }
   ],
   "source": [
    "print(business_attributes['NoiseLevel'].value_counts())"
   ]
  },
  {
   "cell_type": "code",
   "execution_count": 15,
   "metadata": {},
   "outputs": [
    {
     "name": "stdout",
     "output_type": "stream",
     "text": [
      "Na       151979\n",
      "False        62\n",
      "Name: Ambience_hipster, dtype: int64\n"
     ]
    }
   ],
   "source": [
    "print(business_attributes['Ambience_hipster'].value_counts())"
   ]
  }
 ],
 "metadata": {
  "kernelspec": {
   "display_name": "Python 3",
   "language": "python",
   "name": "python3"
  },
  "language_info": {
   "codemirror_mode": {
    "name": "ipython",
    "version": 3
   },
   "file_extension": ".py",
   "mimetype": "text/x-python",
   "name": "python",
   "nbconvert_exporter": "python",
   "pygments_lexer": "ipython3",
   "version": "3.6.3"
  }
 },
 "nbformat": 4,
 "nbformat_minor": 2
}
