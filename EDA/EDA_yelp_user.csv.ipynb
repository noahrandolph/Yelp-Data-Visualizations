{
 "cells": [
  {
   "cell_type": "code",
   "execution_count": 3,
   "metadata": {},
   "outputs": [],
   "source": [
    "import numpy as np\n",
    "import pandas as pd\n",
    "import matplotlib.pyplot as plt\n",
    "\n",
    "user=pd.read_csv(\"yelp_user.csv\")\n",
    "\n",
    "%matplotlib inline"
   ]
  },
  {
   "cell_type": "markdown",
   "metadata": {},
   "source": [
    "### yelp_user.csv"
   ]
  },
  {
   "cell_type": "code",
   "execution_count": 5,
   "metadata": {},
   "outputs": [
    {
     "name": "stdout",
     "output_type": "stream",
     "text": [
      "user_id                object\n",
      "name                   object\n",
      "review_count            int64\n",
      "yelping_since          object\n",
      "friends                object\n",
      "useful                  int64\n",
      "funny                   int64\n",
      "cool                    int64\n",
      "fans                    int64\n",
      "elite                  object\n",
      "average_stars         float64\n",
      "compliment_hot          int64\n",
      "compliment_more         int64\n",
      "compliment_profile      int64\n",
      "compliment_cute         int64\n",
      "compliment_list         int64\n",
      "compliment_note         int64\n",
      "compliment_plain        int64\n",
      "compliment_cool         int64\n",
      "compliment_funny        int64\n",
      "compliment_writer       int64\n",
      "compliment_photos       int64\n",
      "dtype: object\n",
      "                  user_id    name  review_count yelping_since  \\\n",
      "0  JJ-aSuM4pCFPdkfoZ34q0Q   Chris            10    2013-09-24   \n",
      "1  uUzsFQn_6cXDh6rPNGbIFA   Tiffy             1    2017-03-02   \n",
      "2  mBneaEEH5EMyxaVyqS-72A    Mark             6    2015-03-13   \n",
      "3  W5mJGs-dcDWRGEhAzUYtoA  Evelyn             3    2016-09-08   \n",
      "4  4E8--zUZO1Rr1IBK4_83fg    Lisa            11    2012-07-16   \n",
      "\n",
      "                                             friends  useful  funny  cool  \\\n",
      "0  0njfJmB-7n84DlIgUByCNw, rFn3Xe3RqHxRSxWOU19Gpg...       0      0     0   \n",
      "1                                               None       0      0     0   \n",
      "2                                               None       0      0     0   \n",
      "3                                               None       0      0     0   \n",
      "4                                               None       4      0     0   \n",
      "\n",
      "   fans elite        ...          compliment_more  compliment_profile  \\\n",
      "0     0  None        ...                        0                   0   \n",
      "1     0  None        ...                        0                   0   \n",
      "2     0  None        ...                        0                   0   \n",
      "3     0  None        ...                        0                   0   \n",
      "4     0  None        ...                        0                   0   \n",
      "\n",
      "   compliment_cute  compliment_list  compliment_note  compliment_plain  \\\n",
      "0                0                0                0                 0   \n",
      "1                0                0                0                 0   \n",
      "2                0                0                0                 0   \n",
      "3                0                0                0                 0   \n",
      "4                0                0                0                 0   \n",
      "\n",
      "   compliment_cool  compliment_funny  compliment_writer  compliment_photos  \n",
      "0                0                 0                  0                  0  \n",
      "1                0                 0                  0                  0  \n",
      "2                0                 0                  0                  0  \n",
      "3                0                 0                  0                  0  \n",
      "4                0                 0                  1                  0  \n",
      "\n",
      "[5 rows x 22 columns]\n"
     ]
    }
   ],
   "source": [
    "print(user.dtypes)\n",
    "print(user.head())"
   ]
  },
  {
   "cell_type": "code",
   "execution_count": 6,
   "metadata": {},
   "outputs": [
    {
     "name": "stdout",
     "output_type": "stream",
     "text": [
      "                        user_id   name  review_count yelping_since friends  \\\n",
      "1326095  LODBIwiAcKxRi7Wz-sFsKw   Neth             1    2015-02-21    None   \n",
      "1326096  JpY2ozlb30z_AZCq2YX34g   Mike             1    2014-08-01    None   \n",
      "1326097  AU9aZSA1rAjNE5cFcZTVMA  Jalin            12    2015-11-11    None   \n",
      "1326098  s1BZ7-rpqb3xRKcxvArXsQ  Cindy            33    2014-06-28    None   \n",
      "1326099  q-1Tz4SvaTpGEMhI_xwm0Q    Amy             5    2010-05-17    None   \n",
      "\n",
      "         useful  funny  cool  fans elite        ...          compliment_more  \\\n",
      "1326095       0      0     0     0  None        ...                        0   \n",
      "1326096       2      0     0     0  None        ...                        0   \n",
      "1326097       0      0     0     0  None        ...                        0   \n",
      "1326098       5      0     0     0  None        ...                        0   \n",
      "1326099       1      0     0     0  None        ...                        0   \n",
      "\n",
      "         compliment_profile  compliment_cute  compliment_list  \\\n",
      "1326095                   0                0                0   \n",
      "1326096                   0                0                0   \n",
      "1326097                   0                0                0   \n",
      "1326098                   0                0                0   \n",
      "1326099                   0                0                0   \n",
      "\n",
      "         compliment_note  compliment_plain  compliment_cool  compliment_funny  \\\n",
      "1326095                0                 0                0                 0   \n",
      "1326096                0                 0                0                 0   \n",
      "1326097                0                 0                0                 0   \n",
      "1326098                0                 1                0                 0   \n",
      "1326099                0                 0                0                 0   \n",
      "\n",
      "         compliment_writer  compliment_photos  \n",
      "1326095                  0                  0  \n",
      "1326096                  0                  1  \n",
      "1326097                  0                  0  \n",
      "1326098                  0                  0  \n",
      "1326099                  0                  0  \n",
      "\n",
      "[5 rows x 22 columns]\n"
     ]
    }
   ],
   "source": [
    "print(user.tail())"
   ]
  },
  {
   "cell_type": "markdown",
   "metadata": {},
   "source": [
    "#### How many users are there?"
   ]
  },
  {
   "cell_type": "code",
   "execution_count": 7,
   "metadata": {
    "scrolled": true
   },
   "outputs": [
    {
     "data": {
      "text/plain": [
       "1326100"
      ]
     },
     "execution_count": 7,
     "metadata": {},
     "output_type": "execute_result"
    }
   ],
   "source": [
    "len(user)"
   ]
  },
  {
   "cell_type": "markdown",
   "metadata": {},
   "source": [
    "#### User's average star rating"
   ]
  },
  {
   "cell_type": "code",
   "execution_count": 11,
   "metadata": {},
   "outputs": [
    {
     "data": {
      "text/plain": [
       "Text(0.5,0,'Average Star Ratings')"
      ]
     },
     "execution_count": 11,
     "metadata": {},
     "output_type": "execute_result"
    },
    {
     "data": {
      "image/png": "[encoded data removed]",
      "text/plain": [
       "<matplotlib.figure.Figure at 0x1137bb2e8>"
      ]
     },
     "metadata": {},
     "output_type": "display_data"
    }
   ],
   "source": [
    "x = user['average_stars']\n",
    "x.plot(kind='hist')\n",
    "#plot\n",
    "plt.title(\"User Average Star Rating Distribution\")\n",
    "plt.ylabel('Quantity', fontsize=12)\n",
    "plt.xlabel('Average Star Ratings', fontsize=12)"
   ]
  }
 ],
 "metadata": {
  "kernelspec": {
   "display_name": "Python 3",
   "language": "python",
   "name": "python3"
  },
  "language_info": {
   "codemirror_mode": {
    "name": "ipython",
    "version": 3
   },
   "file_extension": ".py",
   "mimetype": "text/x-python",
   "name": "python",
   "nbconvert_exporter": "python",
   "pygments_lexer": "ipython3",
   "version": "3.6.3"
  }
 },
 "nbformat": 4,
 "nbformat_minor": 2
}
