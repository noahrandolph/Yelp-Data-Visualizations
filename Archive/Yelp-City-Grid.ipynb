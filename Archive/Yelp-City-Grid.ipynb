{
 "cells": [
  {
   "cell_type": "code",
   "execution_count": 1,
   "metadata": {},
   "outputs": [],
   "source": [
    "import numpy as np\n",
    "import pandas as pd\n",
    "import matplotlib.pyplot as plt\n",
    "import math\n",
    "import statistics\n",
    "from collections import defaultdict\n",
    "\n",
    "%matplotlib inline"
   ]
  },
  {
   "cell_type": "markdown",
   "metadata": {},
   "source": [
    "### Filter city area out of all businesses"
   ]
  },
  {
   "cell_type": "code",
   "execution_count": 2,
   "metadata": {},
   "outputs": [],
   "source": [
    "business=pd.read_csv(\"yelp_business.csv\")"
   ]
  },
  {
   "cell_type": "code",
   "execution_count": 3,
   "metadata": {},
   "outputs": [],
   "source": [
    "# Cleveland Area\n",
    "min_long = -82.354646\n",
    "max_long = -81.338411\n",
    "min_lat = 41.114023\n",
    "max_lat = 41.730589\n",
    "\n",
    "city_biz = business[(business.latitude < max_lat) &\n",
    "                         (business.latitude > min_lat) &\n",
    "                         (business.longitude < max_long) &\n",
    "                         (business.longitude > min_long)]"
   ]
  },
  {
   "cell_type": "markdown",
   "metadata": {},
   "source": [
    "### Convert lat/long into miles and compute 1-mile increments for x and y directions"
   ]
  },
  {
   "cell_type": "code",
   "execution_count": 4,
   "metadata": {},
   "outputs": [],
   "source": [
    "# Compute degrees lat per mile (N-S) and degrees long per mile (E-W)\n",
    "ns_deg_per_mi = 1/69.01\n",
    "ew_deg_per_mi = 1/(math.cos(\n",
    "                            statistics.mean([min_lat, max_lat])*(math.pi/180)\n",
    "                            ) * 69.1710411)\n",
    "\n",
    "# Compute miles NS and EW for selected city area\n",
    "miles_ns = (max_lat - min_lat)/ns_deg_per_mi\n",
    "miles_ew = (max_long - min_long)/ew_deg_per_mi\n",
    "\n",
    "# Create x axis (E-W) and y axis (N-S) 1-mile block increments by lat/long\n",
    "x_incr = (max_long - min_long)/miles_ew\n",
    "y_incr = (max_lat - min_lat)/miles_ns"
   ]
  },
  {
   "cell_type": "markdown",
   "metadata": {},
   "source": [
    "### Assign each business to a block on the grid through interpolation"
   ]
  },
  {
   "cell_type": "code",
   "execution_count": 5,
   "metadata": {},
   "outputs": [
    {
     "name": "stderr",
     "output_type": "stream",
     "text": [
      "/anaconda3/lib/python3.6/site-packages/ipykernel_launcher.py:2: SettingWithCopyWarning: \n",
      "A value is trying to be set on a copy of a slice from a DataFrame.\n",
      "Try using .loc[row_indexer,col_indexer] = value instead\n",
      "\n",
      "See the caveats in the documentation: http://pandas.pydata.org/pandas-docs/stable/indexing.html#indexing-view-versus-copy\n",
      "  \n",
      "/anaconda3/lib/python3.6/site-packages/ipykernel_launcher.py:4: SettingWithCopyWarning: \n",
      "A value is trying to be set on a copy of a slice from a DataFrame.\n",
      "Try using .loc[row_indexer,col_indexer] = value instead\n",
      "\n",
      "See the caveats in the documentation: http://pandas.pydata.org/pandas-docs/stable/indexing.html#indexing-view-versus-copy\n",
      "  after removing the cwd from sys.path.\n"
     ]
    }
   ],
   "source": [
    "city_biz['x'] = round((city_biz['longitude'] - min_long) *\n",
    "                           (miles_ew - 0) / ((max_long - min_long))).astype(int)\n",
    "city_biz['y'] = round((city_biz['latitude'] - min_lat) *\n",
    "                          (miles_ns - 0) / ((max_lat - min_lat))).astype(int)"
   ]
  },
  {
   "cell_type": "markdown",
   "metadata": {},
   "source": [
    "### Split the category strings into individual words and save in new column \"cat_words\""
   ]
  },
  {
   "cell_type": "code",
   "execution_count": 6,
   "metadata": {},
   "outputs": [],
   "source": [
    "# category_splitter returns a list of the category words for a given business_id\n",
    "def category_splitter(category_string):\n",
    "    categories = category_string.lower().split()\n",
    "    categories = [x.split(';') for x in categories]\n",
    "    categories = [item for sublist in categories for item in sublist] # flatten nested lists\n",
    "    return categories"
   ]
  },
  {
   "cell_type": "code",
   "execution_count": 7,
   "metadata": {},
   "outputs": [
    {
     "name": "stderr",
     "output_type": "stream",
     "text": [
      "/anaconda3/lib/python3.6/site-packages/ipykernel_launcher.py:1: SettingWithCopyWarning: \n",
      "A value is trying to be set on a copy of a slice from a DataFrame.\n",
      "Try using .loc[row_indexer,col_indexer] = value instead\n",
      "\n",
      "See the caveats in the documentation: http://pandas.pydata.org/pandas-docs/stable/indexing.html#indexing-view-versus-copy\n",
      "  \"\"\"Entry point for launching an IPython kernel.\n"
     ]
    }
   ],
   "source": [
    "city_biz['cat_words'] = city_biz['categories'].map(lambda x: category_splitter(x))"
   ]
  },
  {
   "cell_type": "markdown",
   "metadata": {},
   "source": [
    "### Return names and locations of businesses (and star rating) from a search term"
   ]
  },
  {
   "cell_type": "code",
   "execution_count": 14,
   "metadata": {},
   "outputs": [
    {
     "name": "stdout",
     "output_type": "stream",
     "text": [
      "                               name   x   y  stars\n",
      "29616       \"Vero Pizza Napoletana\"  39  27    4.0\n",
      "47218   \"Molto Bene Italian Eatery\"  27  25    4.5\n",
      "55130                 \"Gelato Star\"  34  22    4.5\n",
      "71851               \"CoCo's Gelato\"  17  25    4.5\n",
      "84528       \"Market District Solon\"  48  19    3.5\n",
      "103052                \"La Pizzeria\"  39  27    3.5\n",
      "115998   \"Kool Berry Frozen Yogurt\"  24  18    4.5\n",
      "160377     \"Cibreo Italian Kitchen\"  35  27    3.5\n"
     ]
    }
   ],
   "source": [
    "search_word = 'gelato'\n",
    "\n",
    "def category_searcher(category_series, search_str):\n",
    "    return category_series.map(lambda x: search_str in x)\n",
    "\n",
    "search_results = city_biz[category_searcher(city_biz['cat_words'], search_word)]\n",
    "\n",
    "#return just name and grid location from search results\n",
    "results_name_loc_and_stars = search_results[['name','x','y','stars']]\n",
    "\n",
    "print(results_name_loc_and_stars)"
   ]
  }
 ],
 "metadata": {
  "kernelspec": {
   "display_name": "Python 3",
   "language": "python",
   "name": "python3"
  },
  "language_info": {
   "codemirror_mode": {
    "name": "ipython",
    "version": 3
   },
   "file_extension": ".py",
   "mimetype": "text/x-python",
   "name": "python",
   "nbconvert_exporter": "python",
   "pygments_lexer": "ipython3",
   "version": "3.6.3"
  }
 },
 "nbformat": 4,
 "nbformat_minor": 2
}
