{
 "cells": [
  {
   "cell_type": "code",
   "execution_count": 1,
   "metadata": {},
   "outputs": [],
   "source": [
    "import numpy as np\n",
    "import pandas as pd\n",
    "import matplotlib.pyplot as plt\n",
    "\n",
    "check_in=pd.read_csv(\"yelp_checkin.csv\")\n",
    "reviews=pd.read_csv(\"yelp_review.csv\")\n",
    "tip=pd.read_csv(\"yelp_tip.csv\")\n",
    "user=pd.read_csv(\"yelp_user.csv\")\n",
    "\n",
    "%matplotlib inline"
   ]
  },
  {
   "cell_type": "markdown",
   "metadata": {},
   "source": [
    "### yelp_checkin.csv"
   ]
  },
  {
   "cell_type": "code",
   "execution_count": 2,
   "metadata": {},
   "outputs": [
    {
     "name": "stdout",
     "output_type": "stream",
     "text": [
      "business_id    object\n",
      "weekday        object\n",
      "hour           object\n",
      "checkins        int64\n",
      "dtype: object\n",
      "              business_id weekday   hour  checkins\n",
      "0  7KPBkxAOEtb3QeIL9PEErg     Sat   1:00         3\n",
      "1  kREVIrSBbtqBhIYkTccQUg     Sat  16:00         1\n",
      "2  tJRDll5yqpZwehenzE2cSg     Thu   0:00         1\n",
      "3  r1p7RAMzCV_6NPF0dNoR3g     Sat  23:00         1\n",
      "4  mDdqgfrvROGAumcQdZ3HIg     Thu  22:00         1\n"
     ]
    }
   ],
   "source": [
    "print(check_in.dtypes)\n",
    "print(check_in.head())"
   ]
  },
  {
   "cell_type": "code",
   "execution_count": 3,
   "metadata": {},
   "outputs": [
    {
     "name": "stdout",
     "output_type": "stream",
     "text": [
      "                   business_id weekday   hour  checkins\n",
      "146345  z4EIzLJlGd7gyje1Q_hKtw     Sun  19:00         1\n",
      "146346  cQvAOJPEoXqi2IUwqDwo6w     Wed   0:00         4\n",
      "146347  xf72Yt6l6YUcqz7xCrWSwQ     Fri  21:00         1\n",
      "146348  ZqTXN4qh0Ta1Lp8Z3v-dKg     Sat  19:00         1\n",
      "146349  aY0ZSpAK7h7-SmP6KVS8oA     Thu  21:00         3\n"
     ]
    }
   ],
   "source": [
    "print(check_in.tail())"
   ]
  },
  {
   "cell_type": "markdown",
   "metadata": {},
   "source": [
    "#### Which companies have the most check-ins?"
   ]
  },
  {
   "cell_type": "code",
   "execution_count": 4,
   "metadata": {
    "scrolled": true
   },
   "outputs": [
    {
     "name": "stdout",
     "output_type": "stream",
     "text": [
      "1     111896\n",
      "2      18542\n",
      "3       6206\n",
      "4       2937\n",
      "5       1676\n",
      "6       1087\n",
      "7        772\n",
      "8        579\n",
      "9        403\n",
      "10       304\n",
      "11       229\n",
      "12       188\n",
      "13       185\n",
      "14       138\n",
      "15       129\n",
      "16       102\n",
      "17       101\n",
      "18        89\n",
      "19        85\n",
      "21        68\n",
      "20        67\n",
      "22        40\n",
      "23        40\n",
      "24        38\n",
      "29        33\n",
      "25        28\n",
      "27        28\n",
      "26        27\n",
      "28        24\n",
      "32        21\n",
      "30        17\n",
      "34        16\n",
      "31        16\n",
      "37        15\n",
      "33        14\n",
      "35        13\n",
      "42         9\n",
      "40         9\n",
      "39         8\n",
      "41         7\n",
      "60         6\n",
      "51         6\n",
      "43         6\n",
      "38         6\n",
      "46         6\n",
      "47         6\n",
      "36         6\n",
      "52         6\n",
      "48         5\n",
      "45         5\n",
      "Name: checkins, dtype: int64\n"
     ]
    }
   ],
   "source": [
    "print(check_in['checkins'].value_counts()[:50])"
   ]
  },
  {
   "cell_type": "markdown",
   "metadata": {},
   "source": [
    "#### Popular check-in Times?"
   ]
  },
  {
   "cell_type": "code",
   "execution_count": 12,
   "metadata": {},
   "outputs": [
    {
     "data": {
      "text/plain": [
       "Text(0.5,0,'Weekday')"
      ]
     },
     "execution_count": 12,
     "metadata": {},
     "output_type": "execute_result"
    },
    {
     "data": {
      "image/png": "[encoded data removed]",
      "text/plain": [
       "<matplotlib.figure.Figure at 0x10c6b1da0>"
      ]
     },
     "metadata": {},
     "output_type": "display_data"
    }
   ],
   "source": [
    "x = check_in['weekday'].value_counts()\n",
    "#x = x.sort_index()\n",
    "x.plot(kind='bar')\n",
    "#plot\n",
    "plt.title(\"Weekday Check-ins\")\n",
    "plt.ylabel('# of check-ins', fontsize=12)\n",
    "plt.xlabel('Weekday', fontsize=12)"
   ]
  },
  {
   "cell_type": "code",
   "execution_count": null,
   "metadata": {},
   "outputs": [],
   "source": [
    "x = check_in['weekday'].value_counts()\n",
    "#x = x.sort_index()\n",
    "x.plot(kind='bar')\n",
    "#plot\n",
    "plt.title(\"Weekday Check-ins\")\n",
    "plt.ylabel('# of check-ins', fontsize=12)\n",
    "plt.xlabel('Weekday', fontsize=12)"
   ]
  }
 ],
 "metadata": {
  "kernelspec": {
   "display_name": "Python 3",
   "language": "python",
   "name": "python3"
  },
  "language_info": {
   "codemirror_mode": {
    "name": "ipython",
    "version": 3
   },
   "file_extension": ".py",
   "mimetype": "text/x-python",
   "name": "python",
   "nbconvert_exporter": "python",
   "pygments_lexer": "ipython3",
   "version": "3.6.3"
  }
 },
 "nbformat": 4,
 "nbformat_minor": 2
}
