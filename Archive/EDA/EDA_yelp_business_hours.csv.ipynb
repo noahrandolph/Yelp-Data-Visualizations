{
 "cells": [
  {
   "cell_type": "code",
   "execution_count": 3,
   "metadata": {},
   "outputs": [],
   "source": [
    "import numpy as np\n",
    "import pandas as pd\n",
    "import matplotlib.pyplot as plt\n",
    "\n",
    "business_hours=pd.read_csv(\"yelp_business_hours.csv\")\n",
    "check_in=pd.read_csv(\"yelp_checkin.csv\")\n",
    "reviews=pd.read_csv(\"yelp_review.csv\")\n",
    "tip=pd.read_csv(\"yelp_tip.csv\")\n",
    "user=pd.read_csv(\"yelp_user.csv\")\n",
    "\n",
    "%matplotlib inline"
   ]
  },
  {
   "cell_type": "markdown",
   "metadata": {},
   "source": [
    "### yelp_business_hours.csv"
   ]
  },
  {
   "cell_type": "code",
   "execution_count": 4,
   "metadata": {},
   "outputs": [
    {
     "name": "stdout",
     "output_type": "stream",
     "text": [
      "business_id    object\n",
      "monday         object\n",
      "tuesday        object\n",
      "wednesday      object\n",
      "thursday       object\n",
      "friday         object\n",
      "saturday       object\n",
      "sunday         object\n",
      "dtype: object\n",
      "              business_id     monday    tuesday  wednesday   thursday  \\\n",
      "0  FYWN1wneV18bWNgQjJ2GNg  7:30-17:0  7:30-17:0  7:30-17:0  7:30-17:0   \n",
      "1  He-G7vWjzVUysIKrfNbPUQ   9:0-20:0   9:0-20:0   9:0-20:0   9:0-20:0   \n",
      "2  KQPW8lFf1y5BT2MxiSZ3QA       None       None       None       None   \n",
      "3  8DShNS-LuFqpEWIp0HxijA  10:0-21:0  10:0-21:0  10:0-21:0  10:0-21:0   \n",
      "4  PfOCPjBrlQAnz__NXj9h_w   11:0-1:0   11:0-1:0   11:0-1:0   11:0-1:0   \n",
      "\n",
      "      friday   saturday     sunday  \n",
      "0  7:30-17:0       None       None  \n",
      "1   9:0-16:0   8:0-16:0       None  \n",
      "2       None       None       None  \n",
      "3  10:0-21:0  10:0-21:0  11:0-19:0  \n",
      "4   11:0-1:0   11:0-2:0   11:0-0:0  \n"
     ]
    }
   ],
   "source": [
    "print(business_hours.dtypes)\n",
    "print(business_hours.head())"
   ]
  },
  {
   "cell_type": "markdown",
   "metadata": {},
   "source": [
    "#### Let's chFriday?"
   ]
  },
  {
   "cell_type": "code",
   "execution_count": 5,
   "metadata": {
    "scrolled": true
   },
   "outputs": [
    {
     "name": "stdout",
     "output_type": "stream",
     "text": [
      "None          47134\n",
      "0:0-0:0        6527\n",
      "9:0-17:0       5674\n",
      "9:0-18:0       5119\n",
      "8:0-17:0       5100\n",
      "10:0-21:0      3818\n",
      "10:0-18:0      3394\n",
      "11:0-22:0      3366\n",
      "11:0-23:0      3051\n",
      "8:0-18:0       2879\n",
      "10:0-19:0      2765\n",
      "9:0-19:0       2736\n",
      "10:0-20:0      2694\n",
      "9:0-21:0       2537\n",
      "11:0-21:0      2091\n",
      "9:0-20:0       1852\n",
      "7:0-19:0       1747\n",
      "11:0-2:0       1661\n",
      "8:0-20:0       1429\n",
      "11:0-0:0       1400\n",
      "7:0-18:0       1291\n",
      "10:0-22:0      1277\n",
      "10:0-17:0      1206\n",
      "8:0-21:0       1137\n",
      "8:0-19:0       1122\n",
      "7:0-17:0       1060\n",
      "11:0-19:0      1030\n",
      "11:0-20:0      1004\n",
      "8:0-22:0        890\n",
      "8:0-16:0        871\n",
      "8:30-17:0       869\n",
      "11:0-1:0        822\n",
      "7:0-22:0        807\n",
      "7:30-18:0       803\n",
      "7:0-21:0        769\n",
      "17:0-22:0       704\n",
      "7:0-20:0        699\n",
      "11:30-22:0      657\n",
      "11:30-23:0      649\n",
      "17:0-23:0       624\n",
      "9:30-19:0       613\n",
      "9:0-22:0        610\n",
      "9:0-16:0        605\n",
      "10:0-23:0       599\n",
      "7:0-16:0        589\n",
      "11:0-18:0       584\n",
      "10:0-0:0        583\n",
      "6:0-22:0        577\n",
      "8:30-17:30      555\n",
      "6:0-21:0        546\n",
      "Name: friday, dtype: int64\n"
     ]
    }
   ],
   "source": [
    "print(business_hours['friday'].value_counts()[:50])"
   ]
  }
 ],
 "metadata": {
  "kernelspec": {
   "display_name": "Python 3",
   "language": "python",
   "name": "python3"
  },
  "language_info": {
   "codemirror_mode": {
    "name": "ipython",
    "version": 3
   },
   "file_extension": ".py",
   "mimetype": "text/x-python",
   "name": "python",
   "nbconvert_exporter": "python",
   "pygments_lexer": "ipython3",
   "version": "3.6.3"
  }
 },
 "nbformat": 4,
 "nbformat_minor": 2
}
